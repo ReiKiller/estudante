{
  "nbformat": 4,
  "nbformat_minor": 0,
  "metadata": {
    "colab": {
      "provenance": [],
      "authorship_tag": "ABX9TyOnikahlWWM/lacb9q9Tf/y",
      "include_colab_link": true
    },
    "kernelspec": {
      "name": "python3",
      "display_name": "Python 3"
    },
    "language_info": {
      "name": "python"
    }
  },
  "cells": [
    {
      "cell_type": "markdown",
      "metadata": {
        "id": "view-in-github",
        "colab_type": "text"
      },
      "source": [
        "<a href=\"https://colab.research.google.com/github/ReiKiller/estudante/blob/main/AT2.ipynb\" target=\"_parent\"><img src=\"https://colab.research.google.com/assets/colab-badge.svg\" alt=\"Open In Colab\"/></a>"
      ]
    },
    {
      "cell_type": "code",
      "execution_count": 1,
      "metadata": {
        "colab": {
          "base_uri": "https://localhost:8080/",
          "height": 245
        },
        "id": "nlwug9jX9kqH",
        "outputId": "8b8456a1-7ccb-43af-f239-a7345668d128"
      },
      "outputs": [
        {
          "output_type": "error",
          "ename": "TypeError",
          "evalue": "ignored",
          "traceback": [
            "\u001b[0;31m---------------------------------------------------------------------------\u001b[0m",
            "\u001b[0;31mTypeError\u001b[0m                                 Traceback (most recent call last)",
            "\u001b[0;32m<ipython-input-1-0867614b23f6>\u001b[0m in \u001b[0;36m<cell line: 18>\u001b[0;34m()\u001b[0m\n\u001b[1;32m     16\u001b[0m         \u001b[0mself\u001b[0m\u001b[0;34m.\u001b[0m\u001b[0mgenero\u001b[0m \u001b[0;34m=\u001b[0m \u001b[0mgenero\u001b[0m\u001b[0;34m\u001b[0m\u001b[0;34m\u001b[0m\u001b[0m\n\u001b[1;32m     17\u001b[0m \u001b[0;34m\u001b[0m\u001b[0m\n\u001b[0;32m---> 18\u001b[0;31m \u001b[0mgerivaldo\u001b[0m \u001b[0;34m=\u001b[0m \u001b[0mIdoso\u001b[0m\u001b[0;34m(\u001b[0m\u001b[0;34m'Gerivaldo Barbosa BTS '\u001b[0m\u001b[0;34m,\u001b[0m\u001b[0;34m'173'\u001b[0m\u001b[0;34m,\u001b[0m\u001b[0;34m'Masculino'\u001b[0m\u001b[0;34m)\u001b[0m\u001b[0;34m\u001b[0m\u001b[0;34m\u001b[0m\u001b[0m\n\u001b[0m\u001b[1;32m     19\u001b[0m \u001b[0mprint\u001b[0m\u001b[0;34m(\u001b[0m\u001b[0mgerivaldo\u001b[0m\u001b[0;34m.\u001b[0m\u001b[0mnome_completo\u001b[0m\u001b[0;34m,\u001b[0m\u001b[0mgerivaldo\u001b[0m\u001b[0;34m.\u001b[0m\u001b[0midade\u001b[0m\u001b[0;34m,\u001b[0m\u001b[0mgerivaldo\u001b[0m\u001b[0;34m.\u001b[0m\u001b[0mgenero\u001b[0m\u001b[0;34m)\u001b[0m\u001b[0;34m\u001b[0m\u001b[0;34m\u001b[0m\u001b[0m\n\u001b[1;32m     20\u001b[0m \u001b[0;34m\u001b[0m\u001b[0m\n",
            "\u001b[0;31mTypeError\u001b[0m: Idoso() takes no arguments"
          ]
        }
      ],
      "source": [
        "# ATIVIDADE 2 DE PNT\n",
        "# ALUNOS: ALEHANDRO HENRIQUE, TIAGO FÉLIX E LUIZ NETO\n",
        "# -----------------------------------------------------------\n",
        "# [PNT] AT2 - DESENVOLVA OBJETOS EM PYTHON\n",
        "# -----------------------------------------------------------\n",
        "# ===================== QUESTÃO 1: ==========================\n",
        "# Desenvolva até 5 objetos em Python para seu Projeto de PI1.\n",
        "# Exemplo: Pessoa, Cadastro, Previsão, etc...\n",
        "# Vale 3 pontos na AV1/N1.\n",
        "\n",
        "\n",
        "class Idoso:\n",
        "    def init(self, nome_completo, idade , genero ):\n",
        "        self.nome_completo = nome_completo\n",
        "        self.idade = idade\n",
        "        self.genero = genero\n",
        "\n",
        "gerivaldo = Idoso('Gerivaldo Barbosa BTS ','173','Masculino')\n",
        "print(gerivaldo.nome_completo,gerivaldo.idade,gerivaldo.genero)\n",
        "\n",
        "#----------------------------------------------------------------------------------------------------------------\n",
        "\n",
        "class Configurações:\n",
        "    def init(self, tamanho_da_fonte, alterar_senha_da_conta, tipo_de_assinatura, tema_do_app):\n",
        "        self.tamanho_da_fonte = tamanho_da_fonte\n",
        "        self.login = login\n",
        "        self.tipo_de_assinatura = tipo_de_assinatura\n",
        "        self.tema_do_app = tema_do_app\n",
        "\n",
        "def apresentar(self):\n",
        "  print (f\"tamanho_da_fonte: {self.tamanho_da_fonte} , login_da_conta: {self.login_da_conta} , tipo_de_assinatura: {self.tipo_de_assinatura} , tema_do_app: {self.tema_do_app}\")\n",
        "\n",
        "#-----------------------------------------------------------------------------------------------------------------\n",
        "\n",
        "class Tutorial:\n",
        "    def init(self, voltar, avancar, ignorar):\n",
        "        self.voltar = voltar\n",
        "        self.avancar = avancar\n",
        "        self.ignorar = ignorar\n",
        "\n",
        "def apresentar(self):\n",
        "  print (f\"nome: {self.nome} , idade: {self.idade} , senha: {self.senha} genero: {self.email}\")\n",
        "\n",
        "#-----------------------------------------------------------------------------------------------------------------\n",
        "\n",
        "class Login:\n",
        "    def init(self, email, senha):\n",
        "        self.email = email\n",
        "        self.senha = senha\n",
        "\n",
        "def apresentar(self):\n",
        "  print (f\"nome: {self.nome} , idade: {self.idade} , senha: {self.senha} genero: {self.email}\")\n",
        "\n",
        "#-----------------------------------------------------------------------------------------------------------------\n",
        "\n",
        "class Suporte:\n",
        "    def init(self, comentarios, enviar, remover_comentario):\n",
        "        self.comentarios = comentarios\n",
        "        self.enviar = enviar\n",
        "        self.remover_comentario = remover_comentario\n",
        "\n",
        "def apresentar(self):\n",
        "  print (f\"nome: {self.nome} , idade: {self.idade} , senha: {self.senha} genero: {self.email}\")"
      ]
    }
  ]
}