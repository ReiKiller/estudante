{
  "nbformat": 4,
  "nbformat_minor": 0,
  "metadata": {
    "colab": {
      "provenance": []
    },
    "kernelspec": {
      "name": "python3",
      "display_name": "Python 3"
    },
    "language_info": {
      "name": "python"
    }
  },
  "cells": [
    {
      "cell_type": "code",
      "execution_count": 35,
      "metadata": {
        "colab": {
          "base_uri": "https://localhost:8080/",
          "height": 407
        },
        "id": "qJgedjYCue0C",
        "outputId": "72abe3fa-4e8e-4c91-a7a7-d9064b3fe726"
      },
      "outputs": [
        {
          "output_type": "stream",
          "name": "stdout",
          "text": [
            "olá ETE CÍCERO DIAS!\n"
          ]
        },
        {
          "output_type": "error",
          "ename": "KeyboardInterrupt",
          "evalue": "ignored",
          "traceback": [
            "\u001b[0;31m---------------------------------------------------------------------------\u001b[0m",
            "\u001b[0;31mKeyboardInterrupt\u001b[0m                         Traceback (most recent call last)",
            "\u001b[0;32m<ipython-input-35-9e617ddbea5e>\u001b[0m in \u001b[0;36m<cell line: 10>\u001b[0;34m()\u001b[0m\n\u001b[1;32m      8\u001b[0m \u001b[0;31m#2\u001b[0m\u001b[0;34m\u001b[0m\u001b[0;34m\u001b[0m\u001b[0m\n\u001b[1;32m      9\u001b[0m \u001b[0;34m\u001b[0m\u001b[0m\n\u001b[0;32m---> 10\u001b[0;31m \u001b[0mnumero\u001b[0m \u001b[0;34m=\u001b[0m \u001b[0minput\u001b[0m\u001b[0;34m(\u001b[0m\u001b[0;34m'Digite um número por favor:'\u001b[0m\u001b[0;34m)\u001b[0m\u001b[0;34m\u001b[0m\u001b[0;34m\u001b[0m\u001b[0m\n\u001b[0m\u001b[1;32m     11\u001b[0m \u001b[0mprint\u001b[0m\u001b[0;34m(\u001b[0m\u001b[0;34mf'o número informado foi {numero}.'\u001b[0m\u001b[0;34m)\u001b[0m\u001b[0;34m\u001b[0m\u001b[0;34m\u001b[0m\u001b[0m\n\u001b[1;32m     12\u001b[0m \u001b[0;34m\u001b[0m\u001b[0m\n",
            "\u001b[0;32m/usr/local/lib/python3.10/dist-packages/ipykernel/kernelbase.py\u001b[0m in \u001b[0;36mraw_input\u001b[0;34m(self, prompt)\u001b[0m\n\u001b[1;32m    849\u001b[0m                 \u001b[0;34m\"raw_input was called, but this frontend does not support input requests.\"\u001b[0m\u001b[0;34m\u001b[0m\u001b[0;34m\u001b[0m\u001b[0m\n\u001b[1;32m    850\u001b[0m             )\n\u001b[0;32m--> 851\u001b[0;31m         return self._input_request(str(prompt),\n\u001b[0m\u001b[1;32m    852\u001b[0m             \u001b[0mself\u001b[0m\u001b[0;34m.\u001b[0m\u001b[0m_parent_ident\u001b[0m\u001b[0;34m,\u001b[0m\u001b[0;34m\u001b[0m\u001b[0;34m\u001b[0m\u001b[0m\n\u001b[1;32m    853\u001b[0m             \u001b[0mself\u001b[0m\u001b[0;34m.\u001b[0m\u001b[0m_parent_header\u001b[0m\u001b[0;34m,\u001b[0m\u001b[0;34m\u001b[0m\u001b[0;34m\u001b[0m\u001b[0m\n",
            "\u001b[0;32m/usr/local/lib/python3.10/dist-packages/ipykernel/kernelbase.py\u001b[0m in \u001b[0;36m_input_request\u001b[0;34m(self, prompt, ident, parent, password)\u001b[0m\n\u001b[1;32m    893\u001b[0m             \u001b[0;32mexcept\u001b[0m \u001b[0mKeyboardInterrupt\u001b[0m\u001b[0;34m:\u001b[0m\u001b[0;34m\u001b[0m\u001b[0;34m\u001b[0m\u001b[0m\n\u001b[1;32m    894\u001b[0m                 \u001b[0;31m# re-raise KeyboardInterrupt, to truncate traceback\u001b[0m\u001b[0;34m\u001b[0m\u001b[0;34m\u001b[0m\u001b[0m\n\u001b[0;32m--> 895\u001b[0;31m                 \u001b[0;32mraise\u001b[0m \u001b[0mKeyboardInterrupt\u001b[0m\u001b[0;34m(\u001b[0m\u001b[0;34m\"Interrupted by user\"\u001b[0m\u001b[0;34m)\u001b[0m \u001b[0;32mfrom\u001b[0m \u001b[0;32mNone\u001b[0m\u001b[0;34m\u001b[0m\u001b[0;34m\u001b[0m\u001b[0m\n\u001b[0m\u001b[1;32m    896\u001b[0m             \u001b[0;32mexcept\u001b[0m \u001b[0mException\u001b[0m \u001b[0;32mas\u001b[0m \u001b[0me\u001b[0m\u001b[0;34m:\u001b[0m\u001b[0;34m\u001b[0m\u001b[0;34m\u001b[0m\u001b[0m\n\u001b[1;32m    897\u001b[0m                 \u001b[0mself\u001b[0m\u001b[0;34m.\u001b[0m\u001b[0mlog\u001b[0m\u001b[0;34m.\u001b[0m\u001b[0mwarning\u001b[0m\u001b[0;34m(\u001b[0m\u001b[0;34m\"Invalid Message:\"\u001b[0m\u001b[0;34m,\u001b[0m \u001b[0mexc_info\u001b[0m\u001b[0;34m=\u001b[0m\u001b[0;32mTrue\u001b[0m\u001b[0;34m)\u001b[0m\u001b[0;34m\u001b[0m\u001b[0;34m\u001b[0m\u001b[0m\n",
            "\u001b[0;31mKeyboardInterrupt\u001b[0m: Interrupted by user"
          ]
        }
      ],
      "source": [
        "#ALEHANDRO HENRIQUE\n",
        "#MÓDULO 1A\n",
        "\n",
        "#1\n",
        "\n",
        "print('olá ETE CÍCERO DIAS!')\n",
        "\n",
        "#2\n",
        "\n",
        "numero = input('Digite um número por favor:')\n",
        "print(f'o número informado foi {numero}.')\n",
        "\n",
        "#3\n",
        "\n",
        "x = int(input('digite o valor de x :'))\n",
        "y = int(input('digite o valor de y :'))\n",
        "soma = x+y\n",
        "print(soma)\n",
        "\n",
        "#4\n",
        "\n",
        "nota1 = int(input('digite sua nota1:'))\n",
        "nota2 = int(input('digite sua nota2:'))\n",
        "nota3 = int(input('digite sua nota3:'))\n",
        "nota4 = int(input('digite sua nota4:'))\n",
        "divisao = (nota1 + nota2 + nota3 + nota4) / 4\n",
        "print(f'sua média é: {divisao}')\n",
        "\n",
        "#5\n",
        "\n",
        "metro = int(input('digite seu metro : '))\n",
        "divisao = (metro/100)\n",
        "print(f'seus metros em centimetros são:{divisao} ')\n",
        "\n",
        "#6\n",
        "\n",
        "r = int(input('digite o raio: '))\n",
        "a = (3.14) * (r **2)\n",
        "print(f'sua area mede: {a}')\n",
        "\n",
        "#7\n",
        "\n",
        "base = int(input(' digite a base do quadrado:  '))\n",
        "altura = int(input(' digite a altura do quadrado: '))\n",
        "quadrado1 =(base*altura)*2\n",
        "quadrado2 =(base*altura)\n",
        "str(f'a área do seu quadrado é: {quadrado2} e o dobro da área do seu quadrado é: {quadrado1}')\n",
        "\n",
        "#8\n",
        "\n",
        "trabalha = int(input('digite as suas horas trabalhadas no mês: '))\n",
        "hora = int(input('digite quanto você ganha por hora: '))\n",
        "resposta = (trabalha*hora)\n",
        "str(f'o seu salario é: {resposta} ')\n",
        "\n",
        "#9\n",
        "\n",
        "valor= float(input('Digite um valor: '))\n",
        "if valor >= 0 :\n",
        "  print('Seu valor é positivo.')\n",
        "else :\n",
        "  print('Seu valor é negativo.')\n",
        "\n",
        "#10\n",
        "\n",
        "letra = str(input('Digite uma letra:'))\n",
        "if  letra == \"F\" or letra ==\"f\":\n",
        "  print('Feminino.')\n",
        "elif letra == \"M\" or letra ==\"m\":\n",
        "  print('Masculino.')\n",
        "else:\n",
        "    print('Sexo inválido.')"
      ]
    },
    {
      "cell_type": "code",
      "source": [],
      "metadata": {
        "id": "mEUckLQ40rVk"
      },
      "execution_count": null,
      "outputs": []
    }
  ]
}