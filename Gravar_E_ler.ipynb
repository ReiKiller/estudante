{
  "nbformat": 4,
  "nbformat_minor": 0,
  "metadata": {
    "colab": {
      "provenance": [],
      "authorship_tag": "ABX9TyMt/y8PW7g8CLg35n5ypT8U",
      "include_colab_link": true
    },
    "kernelspec": {
      "name": "python3",
      "display_name": "Python 3"
    },
    "language_info": {
      "name": "python"
    }
  },
  "cells": [
    {
      "cell_type": "markdown",
      "metadata": {
        "id": "view-in-github",
        "colab_type": "text"
      },
      "source": [
        "<a href=\"https://colab.research.google.com/github/ReiKiller/estudante/blob/main/Gravar_E_ler.ipynb\" target=\"_parent\"><img src=\"https://colab.research.google.com/assets/colab-badge.svg\" alt=\"Open In Colab\"/></a>"
      ]
    },
    {
      "cell_type": "code",
      "execution_count": 11,
      "metadata": {
        "colab": {
          "base_uri": "https://localhost:8080/"
        },
        "id": "pTP2zzfZhUPs",
        "outputId": "cf80a216-6803-4995-b80c-be686d22c2f7"
      },
      "outputs": [
        {
          "output_type": "stream",
          "name": "stdout",
          "text": [
            "Curso Python \n",
            "Aula Prática\n"
          ]
        }
      ],
      "source": [
        "arquivo= open('arqText.txt', 'w')\n",
        "\n",
        "arquivo.write('Curso Python \\n')\n",
        "arquivo.write('Aula Prática')\n",
        "arquivo.close()\n",
        "\n",
        "#leitura do arquivo texto\n",
        "\n",
        "leitura=open('arqText.txt','r')\n",
        "print(leitura.read())\n",
        "leitura.close()"
      ]
    }
  ]
}