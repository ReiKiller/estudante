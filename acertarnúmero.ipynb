{
  "nbformat": 4,
  "nbformat_minor": 0,
  "metadata": {
    "colab": {
      "provenance": [],
      "authorship_tag": "ABX9TyPoyJ4SkmnKD5k6V9yyHSWo",
      "include_colab_link": true
    },
    "kernelspec": {
      "name": "python3",
      "display_name": "Python 3"
    },
    "language_info": {
      "name": "python"
    }
  },
  "cells": [
    {
      "cell_type": "markdown",
      "metadata": {
        "id": "view-in-github",
        "colab_type": "text"
      },
      "source": [
        "<a href=\"https://colab.research.google.com/github/ReiKiller/estudante/blob/main/acertarn%C3%BAmero.ipynb\" target=\"_parent\"><img src=\"https://colab.research.google.com/assets/colab-badge.svg\" alt=\"Open In Colab\"/></a>"
      ]
    },
    {
      "cell_type": "code",
      "execution_count": 14,
      "metadata": {
        "colab": {
          "base_uri": "https://localhost:8080/"
        },
        "id": "pTP2zzfZhUPs",
        "outputId": "219a4ae6-9934-444b-fc39-1492626e6f87"
      },
      "outputs": [
        {
          "output_type": "stream",
          "name": "stdout",
          "text": [
            "Digite um número(0-50): 20\n",
            "boa\n"
          ]
        }
      ],
      "source": [
        "n=int(input(\"Digite um número(0-50): \"))\n",
        "if n <=19:\n",
        "  print(\"mais alto\")\n",
        "elif n == 20:\n",
        "  print(\"boa\")\n",
        "else:\n",
        "  print(\"tente dnv mais baixo\")"
      ]
    }
  ]
}