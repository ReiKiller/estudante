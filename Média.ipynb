{
  "nbformat": 4,
  "nbformat_minor": 0,
  "metadata": {
    "colab": {
      "provenance": [],
      "authorship_tag": "ABX9TyPxSK6l1bLaySSjY3G88qN5",
      "include_colab_link": true
    },
    "kernelspec": {
      "name": "python3",
      "display_name": "Python 3"
    },
    "language_info": {
      "name": "python"
    }
  },
  "cells": [
    {
      "cell_type": "markdown",
      "metadata": {
        "id": "view-in-github",
        "colab_type": "text"
      },
      "source": [
        "<a href=\"https://colab.research.google.com/github/ReiKiller/estudante/blob/main/M%C3%A9dia.ipynb\" target=\"_parent\"><img src=\"https://colab.research.google.com/assets/colab-badge.svg\" alt=\"Open In Colab\"/></a>"
      ]
    },
    {
      "cell_type": "code",
      "execution_count": 8,
      "metadata": {
        "colab": {
          "base_uri": "https://localhost:8080/"
        },
        "id": "pTP2zzfZhUPs",
        "outputId": "c50c61fb-d939-44a9-98e1-1741d9363ffb"
      },
      "outputs": [
        {
          "output_type": "stream",
          "name": "stdout",
          "text": [
            "Digite uma nota para o aluno:10\n",
            "Digite uma nota para o aluno:10\n",
            "Nota 1: 10.0\n",
            "Nota 2: 10.0\n",
            "Média: 10.0 Resultado:Aprovado\n"
          ]
        }
      ],
      "source": [
        "def lernotas():\n",
        "  n=float(input('Digite uma nota para o aluno:'))\n",
        "  return n\n",
        "\n",
        "def resultado(n1,n2):\n",
        "  media=(n1+n2)/2\n",
        "  print(\"Nota 1:\", n1)\n",
        "  print(\"Nota 2:\", n2)\n",
        "  print(\"Média:\",media,\"Resultado:\", end=\"\")\n",
        "  if media >= 7:\n",
        "    print(\"Aprovado\")\n",
        "  else:\n",
        "    print(\"Reprovado\")\n",
        "\n",
        "a = lernotas()\n",
        "b = lernotas()\n",
        "resultado(a,b)"
      ]
    },
    {
      "cell_type": "code",
      "source": [],
      "metadata": {
        "id": "28sfhvFajBa2"
      },
      "execution_count": null,
      "outputs": []
    }
  ]
}